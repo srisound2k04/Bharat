{
 "cells": [
  {
   "cell_type": "code",
   "execution_count": null,
   "id": "21017107",
   "metadata": {},
   "outputs": [],
   "source": [
    "import math\n",
    "import seaborn as sns\n",
    "from sklearn import tree\n",
    "import numpy as np \n",
    "import pandas as pd \n",
    "import seaborn as sns   \n",
    "from sklearn import tree"
   ]
  },
  {
   "cell_type": "code",
   "execution_count": null,
   "id": "90aa4fe0",
   "metadata": {},
   "outputs": [],
   "source": [
    "import plotly.express as px \n",
    "import matplotlib.pyplot as plt    \n",
    "from scipy.stats import loguniform\n",
    "from sklearn.pipeline import Pipeline\n",
    "from sklearn.preprocessing import StandardScaler, MinMaxScaler \n",
    "from sklearn.model_selection import train_test_split, GridSearchCV  \n",
    "from sklearn.metrics import  accuracy_score, confusion_matrix, classification_report, roc_auc_score \n",
    "from sklearn.linear_model import LogisticRegression    \n",
    "from sklearn.neighbors import KNeighborsClassifier \n",
    "from sklearn.tree import DecisionTreeClassifier     \n",
    "from sklearn.ensemble import RandomForestClassifier     "
   ]
  },
  {
   "cell_type": "code",
   "execution_count": null,
   "id": "2af7d343",
   "metadata": {},
   "outputs": [],
   "source": [
    "sns.set()"
   ]
  },
  {
   "cell_type": "code",
   "execution_count": null,
   "id": "a5e4b7b2",
   "metadata": {},
   "outputs": [],
   "source": [
    "df = pd.read_csv(\"C:/Users/sri03/Downloads/archive (9).zip\")\n",
    "df.head(5)"
   ]
  },
  {
   "cell_type": "code",
   "execution_count": null,
   "id": "1e5c1c4a",
   "metadata": {},
   "outputs": [],
   "source": [
    "print(\"Shape of the data:- \",df.shape)"
   ]
  },
  {
   "cell_type": "code",
   "execution_count": null,
   "id": "e9785860",
   "metadata": {},
   "outputs": [],
   "source": [
    "df.info()"
   ]
  },
  {
   "cell_type": "code",
   "execution_count": null,
   "id": "ff05cdb7",
   "metadata": {},
   "outputs": [],
   "source": [
    "df.columns"
   ]
  },
  {
   "cell_type": "code",
   "execution_count": null,
   "id": "63474ce2",
   "metadata": {},
   "outputs": [],
   "source": [
    "df.describe(include=\"all\")"
   ]
  },
  {
   "cell_type": "code",
   "execution_count": null,
   "id": "3c4b0ad1",
   "metadata": {},
   "outputs": [],
   "source": [
    "df.isnull().sum()"
   ]
  },
  {
   "cell_type": "code",
   "execution_count": null,
   "id": "7621f993",
   "metadata": {},
   "outputs": [],
   "source": [
    "def count_plot(feature):\n",
    "    sns.countplot(x=feature, data=df)\n",
    "    plt.show()\n",
    "    print(\"\\n\")"
   ]
  },
  {
   "cell_type": "code",
   "execution_count": null,
   "id": "09b6d3b0",
   "metadata": {
    "scrolled": false
   },
   "outputs": [],
   "source": [
    "columns = ['Survived','Pclass','Sex','SibSp','Embarked', 'Parch']\n",
    "for i in columns:\n",
    "    count_plot(i)"
   ]
  },
  {
   "cell_type": "code",
   "execution_count": null,
   "id": "d732b177",
   "metadata": {},
   "outputs": [],
   "source": [
    "df[\"Age\"].plot(kind='hist', title = \"Age\")"
   ]
  },
  {
   "cell_type": "code",
   "execution_count": null,
   "id": "97ed9841",
   "metadata": {},
   "outputs": [],
   "source": [
    "df.groupby('Pclass')['Survived'].value_counts()"
   ]
  },
  {
   "cell_type": "code",
   "execution_count": null,
   "id": "191e50a2",
   "metadata": {},
   "outputs": [],
   "source": [
    "df.groupby('Embarked')['Survived'].value_counts()"
   ]
  },
  {
   "cell_type": "code",
   "execution_count": null,
   "id": "2a612913",
   "metadata": {},
   "outputs": [],
   "source": [
    "survived_counts = df['Survived'].value_counts().reset_index()\n",
    "survived_counts.columns = ['Survived', 'Count']\n",
    "fig = px.pie(survived_counts, values='Count', names=['No', 'Yes'], title='Survived', labels={'Count': 'Count'}, color = ['No', 'Yes'])\n",
    "fig.update_traces(textposition='inside',  textinfo='percent+label+value')\n",
    "fig.update_layout(uniformtext_minsize=14, uniformtext_mode='hide')\n",
    "fig.show()"
   ]
  },
  {
   "cell_type": "code",
   "execution_count": null,
   "id": "2a12501e",
   "metadata": {},
   "outputs": [],
   "source": [
    "fig1 = px.histogram(df, x='Sex', color='Survived', barmode='group', color_discrete_map={0: \"red\", 1: \"blue\"})\n",
    "fig1.update_layout(title='Sex: Survived vs Dead')\n",
    "fig1.show()"
   ]
  },
  {
   "cell_type": "code",
   "execution_count": null,
   "id": "e2b193e8",
   "metadata": {},
   "outputs": [],
   "source": [
    "fig2 = px.histogram(df, x='Pclass', color='Survived', barmode='group', title='Pclass: Survived vs Dead', labels={'Pclass': 'Pclass'}, color_discrete_map={0: 'red', 1: 'blue'})\n",
    "fig2.update_layout(title='PClass: Survived vs Dead')\n",
    "fig2.show()"
   ]
  },
  {
   "cell_type": "code",
   "execution_count": null,
   "id": "5b522520",
   "metadata": {},
   "outputs": [],
   "source": [
    "df.head()"
   ]
  },
  {
   "cell_type": "code",
   "execution_count": null,
   "id": "4cbb8ddf",
   "metadata": {},
   "outputs": [],
   "source": [
    "df_clean = df.drop(['PassengerId', 'Name', 'Cabin', 'Ticket'], axis=1)\n",
    "df_clean.shape"
   ]
  },
  {
   "cell_type": "code",
   "execution_count": null,
   "id": "d631b4e6",
   "metadata": {},
   "outputs": [],
   "source": [
    "df_clean.head()"
   ]
  },
  {
   "cell_type": "code",
   "execution_count": null,
   "id": "072c349c",
   "metadata": {},
   "outputs": [],
   "source": [
    "df_clean.drop_duplicates(inplace=True)\n",
    "df_clean.reset_index().shape"
   ]
  },
  {
   "cell_type": "code",
   "execution_count": null,
   "id": "6bf8238b",
   "metadata": {},
   "outputs": [],
   "source": [
    "df_clean['Age'].fillna(df['Age'].mean(), inplace=True)\n",
    "df_clean.isna().sum()"
   ]
  },
  {
   "cell_type": "code",
   "execution_count": null,
   "id": "ddab4e78",
   "metadata": {},
   "outputs": [],
   "source": [
    "sex_map = {'male': 1, 'female': 2}\n",
    "df_clean['Sex'] = df_clean['Sex'].map( sex_map).astype(int)"
   ]
  },
  {
   "cell_type": "code",
   "execution_count": null,
   "id": "6aa45037",
   "metadata": {},
   "outputs": [],
   "source": [
    "df_clean['Sex'].unique()"
   ]
  },
  {
   "cell_type": "code",
   "execution_count": null,
   "id": "072adc2a",
   "metadata": {},
   "outputs": [],
   "source": [
    "df_clean[\"Embarked\"].fillna(df_clean[\"Embarked\"].mode()[0], inplace=True)\n",
    "df_clean.info()"
   ]
  },
  {
   "cell_type": "code",
   "execution_count": null,
   "id": "93a9a378",
   "metadata": {},
   "outputs": [],
   "source": [
    "Embarked_map = {'S': 1, 'C': 2, 'Q': 3}\n",
    "df_clean['Embarked'] = df_clean['Embarked'].map(Embarked_map).astype(int)\n",
    "df_clean['Embarked'].unique()"
   ]
  },
  {
   "cell_type": "code",
   "execution_count": null,
   "id": "99077878",
   "metadata": {},
   "outputs": [],
   "source": [
    "for i in [i for i in df_clean.columns]:\n",
    "    if df_clean[i].nunique()>=12:\n",
    "        Q1 = df_clean[i].quantile(0.20)\n",
    "        Q3 = df_clean[i].quantile(0.80)\n",
    "        IQR = Q3 - Q1\n",
    "        IQR = Q3 - Q1\n",
    "        df_clean = df_clean[df_clean[i] <= (Q3+(1.5*IQR))]\n",
    "        df_clean = df_clean[df_clean[i] >= (Q1-(1.5*IQR))]\n",
    "df_clean = df_clean.reset_index(drop=True)\n",
    "df_clean.info()"
   ]
  },
  {
   "cell_type": "code",
   "execution_count": null,
   "id": "dc7bad52",
   "metadata": {
    "scrolled": false
   },
   "outputs": [],
   "source": [
    "sns.pairplot(df_clean, hue='Survived')"
   ]
  },
  {
   "cell_type": "code",
   "execution_count": null,
   "id": "09179c6c",
   "metadata": {},
   "outputs": [],
   "source": [
    "plt.figure(figsize=(20,18)) \n",
    "sns.heatmap(df_clean.corr(), annot=True, linewidths=.5) "
   ]
  },
  {
   "cell_type": "code",
   "execution_count": null,
   "id": "84adcad6",
   "metadata": {},
   "outputs": [],
   "source": [
    "target_corr = df_clean.corr()['Survived'].abs().sort_values(ascending=False)\n",
    "plt.figure(figsize=(10, 6))\n",
    "sns.barplot(x=target_corr.index[1:], y=target_corr.values[1:])\n",
    "plt.xticks(rotation=45, ha='right')\n",
    "plt.xlabel('Features')\n",
    "plt.ylabel('Correlation with diagnosis')\n",
    "plt.title('Correlation between diagnosis and Features')\n",
    "plt.tight_layout()\n",
    "plt.show()"
   ]
  },
  {
   "cell_type": "code",
   "execution_count": null,
   "id": "04b6a515",
   "metadata": {},
   "outputs": [],
   "source": [
    "X = df_clean.drop(\"Survived\", axis=1)\n",
    "y = df_clean[\"Survived\"]\n",
    "\n",
    "print(f\"'X' shape: {X.shape}\")\n",
    "print(f\"'y' shape: {y.shape}\")\n",
    "\n",
    "X_train, X_test, y_train, y_test = train_test_split(X, y, test_size=0.2, shuffle = True, random_state=1)"
   ]
  },
  {
   "cell_type": "code",
   "execution_count": null,
   "id": "1e686d79",
   "metadata": {},
   "outputs": [],
   "source": [
    "std = StandardScaler()\n",
    "X_train = std.fit_transform(X_train)\n",
    "X_test = std.transform(X_test )"
   ]
  },
  {
   "cell_type": "code",
   "execution_count": null,
   "id": "f57c8a2d",
   "metadata": {},
   "outputs": [],
   "source": [
    "pd.DataFrame(X_train,columns = X.columns ).describe(include = 'all')"
   ]
  },
  {
   "cell_type": "code",
   "execution_count": null,
   "id": "0e66dc86",
   "metadata": {},
   "outputs": [],
   "source": [
    "def model_stats(y_pred, y_test):\n",
    "    \n",
    "    result = np.vstack((y_pred, y_test)).T\n",
    "    #print(result)\n",
    "    differences = np.count_nonzero(result.sum(axis = 1) == 1 )\n",
    "    print('Wrong Predictions = ',differences)\n",
    "    cm = confusion_matrix(y_test, y_pred)\n",
    "    print(cm, '\\n Accuracy Score = ',accuracy_score(y_test, y_pred))\n",
    "    plt.figure(figsize=(10, 8))\n",
    "    sns.heatmap(cm, annot=True, fmt='d', cmap='Blues')\n",
    "    plt.xlabel('Predicted Label')\n",
    "    plt.ylabel('True Label')\n",
    "    plt.title('Confusion Matrix')\n",
    "    plt.show()"
   ]
  },
  {
   "cell_type": "code",
   "execution_count": null,
   "id": "1a6cb6cf",
   "metadata": {},
   "outputs": [],
   "source": [
    "classifier = LogisticRegression(random_state = 0)\n",
    "classifier.fit(X_train, y_train)"
   ]
  },
  {
   "cell_type": "code",
   "execution_count": null,
   "id": "800547f2",
   "metadata": {},
   "outputs": [],
   "source": [
    "y_pred = classifier.predict(X_test)"
   ]
  },
  {
   "cell_type": "code",
   "execution_count": null,
   "id": "9f22bd81",
   "metadata": {},
   "outputs": [],
   "source": [
    "model_stats(y_test, y_pred)"
   ]
  },
  {
   "cell_type": "code",
   "execution_count": null,
   "id": "2f8b002d",
   "metadata": {
    "scrolled": false
   },
   "outputs": [],
   "source": [
    "param_grid = {\n",
    "    'solver': ['lbfgs', 'newton-cg', 'sag', 'saga'],\n",
    "    'penalty': ['l1', 'l2'],\n",
    "    'C': [1, 10, 100]\n",
    "}\n",
    "\n",
    "classifier = LogisticRegression()\n",
    "grid_search = GridSearchCV(classifier, param_grid, cv=5)\n",
    "grid_search.fit(X_train, y_train)\n",
    "if grid_search.best_params_ is not None:\n",
    "    best_params = grid_search.best_params_\n",
    "    classifier = LogisticRegression(**best_params)\n",
    "    classifier.fit(X_train, y_train)\n",
    "    y_pred = classifier.predict(X_test)\n",
    "    \n",
    "    model_stats(y_pred,y_test)\n",
    "else:\n",
    "    print('The best parameters have not been set yet.')"
   ]
  },
  {
   "cell_type": "code",
   "execution_count": null,
   "id": "fd8042cb",
   "metadata": {
    "scrolled": false
   },
   "outputs": [],
   "source": [
    "param_grid = {\n",
    "    \"n_neighbors\": [i for i in range(1,20, 1)],\n",
    "    'weights': ['uniform', 'distance'],\n",
    "    'metric': ['euclidean', 'manhattan', 'cosine']\n",
    "}\n",
    "\n",
    "knn = KNeighborsClassifier()\n",
    "grid_search = GridSearchCV(knn, param_grid,  refit=True, verbose=1, cv=5)\n",
    "grid_search.fit(X_train, y_train)\n",
    "best_params = grid_search.best_params_\n",
    "knn = KNeighborsClassifier(**best_params)\n",
    "knn.fit(X_train,y_train)\n",
    "y_pred = knn.predict(X_test)\n",
    "model_stats(y_test,y_pred)"
   ]
  },
  {
   "cell_type": "code",
   "execution_count": null,
   "id": "e6f51b67",
   "metadata": {
    "scrolled": false
   },
   "outputs": [],
   "source": [
    "param_grid = {\"n_neighbors\": [i for i in range(1,20, 1)],\n",
    "             \"weights\": [\"uniform\", \"distance\"],\n",
    "             \"algorithm\": [\"ball_tree\", \"kd_tree\", \"brute\"],\n",
    "             \"leaf_size\": [1, 5, 10 ],\n",
    "             \"p\": [1,2]}\n",
    "knn = KNeighborsClassifier(n_neighbors = 5, metric = 'minkowski', p = 2)\n",
    "grid_search = GridSearchCV(knn, param_grid,  refit=True, verbose=1, cv=5)\n",
    "grid_search.fit(X_train, y_train)\n",
    "\n",
    "\n",
    "best_params = grid_search.best_params_\n",
    "knn = KNeighborsClassifier(**best_params)\n",
    "knn.fit(X_train,y_train)\n",
    "\n",
    "y_pred = knn.predict(X_test)\n",
    "\n",
    "\n",
    "model_stats(y_test,y_pred)"
   ]
  },
  {
   "cell_type": "code",
   "execution_count": null,
   "id": "0d703840",
   "metadata": {},
   "outputs": [],
   "source": [
    "param_grid = {\n",
    "    'criterion': ['gini', 'entropy'],\n",
    "    'splitter': ['best', 'random'],\n",
    "    'max_depth': [3, 5, 7, None],\n",
    "    \"max_features\": [i for i in range(1, 10, 1)],\n",
    "    'min_samples_split': [2, 5, 10],\n",
    "    'min_samples_leaf': [i for i in range(1, 5, 1)],\n",
    "    'max_leaf_nodes': [None, 10, 20],\n",
    "    'min_impurity_decrease': [1e-7, 1e-5, 1e-3]\n",
    "}\n",
    "\n",
    "classifier = DecisionTreeClassifier(random_state = 0)\n",
    "\n",
    "grid_search = GridSearchCV(classifier, param_grid, cv=5)\n",
    "\n",
    "grid_search.fit(X_train, y_train)\n",
    "best_params = grid_search.best_params_\n",
    "\n",
    "classifier = DecisionTreeClassifier(**best_params)\n",
    "classifier.fit(X_train,y_train)\n",
    "\n",
    "y_pred = classifier.predict(X_test)\n",
    "\n",
    "model_stats(y_test,y_pred)"
   ]
  },
  {
   "cell_type": "code",
   "execution_count": null,
   "id": "49ae592f",
   "metadata": {},
   "outputs": [],
   "source": [
    "param_grid = {'bootstrap': [True, False],\n",
    "    'n_estimators': [30,50,100],\n",
    "    'max_depth': [10, 50, 100, None],\n",
    "    'min_samples_split': [2, 5, 15, 30],\n",
    "    'min_samples_leaf': [1, 3, 5, 10]\n",
    "}\n",
    "\n",
    "classifier = RandomForestClassifier()\n",
    "grid_search = GridSearchCV(classifier, param_grid, cv=5)\n",
    "grid_search.fit(X_train, y_train)\n",
    "\n",
    "\n",
    "best_params = grid_search.best_params_\n",
    "classifier = RandomForestClassifier(**best_params)\n",
    "classifier.fit(X_train,y_train)\n",
    "\n",
    "\n",
    "y_pred = classifier.predict(X_test)\n",
    "\n",
    "model_stats(y_test,y_pred)"
   ]
  },
  {
   "cell_type": "code",
   "execution_count": null,
   "id": "520259cb",
   "metadata": {},
   "outputs": [],
   "source": [
    "from sklearn.svm import SVC\n",
    "\n",
    "param_grid = {\n",
    "    'C': [0.1, 1, 10, 100],\n",
    "    'gamma': [0.001, 0.01, 0.1, 1],\n",
    "    'kernel': ['linear', 'rbf']\n",
    "}\n",
    "\n",
    "classifier = SVC()\n",
    "\n",
    "grid_search = GridSearchCV(classifier, param_grid, cv=5)\n",
    "grid_search.fit(X_train, y_train)\n",
    "\n",
    "\n",
    "best_params = grid_search.best_params_\n",
    "classifier = SVC(**best_params)\n",
    "classifier.fit(X_train,y_train)\n",
    "y_pred = classifier.predict(X_test)\n",
    "\n",
    "model_stats(y_test,y_pred)\n"
   ]
  },
  {
   "cell_type": "code",
   "execution_count": null,
   "id": "a7128000",
   "metadata": {},
   "outputs": [],
   "source": []
  }
 ],
 "metadata": {
  "kernelspec": {
   "display_name": "Python 3 (ipykernel)",
   "language": "python",
   "name": "python3"
  },
  "language_info": {
   "codemirror_mode": {
    "name": "ipython",
    "version": 3
   },
   "file_extension": ".py",
   "mimetype": "text/x-python",
   "name": "python",
   "nbconvert_exporter": "python",
   "pygments_lexer": "ipython3",
   "version": "3.11.5"
  }
 },
 "nbformat": 4,
 "nbformat_minor": 5
}
